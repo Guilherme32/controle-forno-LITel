{
 "cells": [
  {
   "cell_type": "code",
   "execution_count": 38,
   "metadata": {},
   "outputs": [],
   "source": [
    "import os\n",
    "import numpy as np\n",
    "import pandas as pd\n",
    "import seaborn as sns\n",
    "import matplotlib.pyplot as plt\n",
    "from sklearn.linear_model import LinearRegression"
   ]
  },
  {
   "cell_type": "code",
   "execution_count": 4,
   "metadata": {},
   "outputs": [],
   "source": [
    "filenames = []\n",
    "\n",
    "for x in os.walk(\".\"):\n",
    "    path = x[0]\n",
    "    for file in [f for f in x[2] if f.endswith(\".csv\")]:\n",
    "        filenames.append(os.path.join(path, file))\n"
   ]
  },
  {
   "cell_type": "code",
   "execution_count": 5,
   "metadata": {},
   "outputs": [],
   "source": [
    "# Esse bloco foi inteiramente reaproveitado do sisema de controle usado quando o teste foi feito\n",
    "\n",
    "NL = 0\n",
    "NM = 1\n",
    "NS  = 2\n",
    "Z = 3\n",
    "P = 4\n",
    "\n",
    "\n",
    "def fuzzify_triangular(value: int, center: int,\n",
    "                       half_width: int, edge: int) -> int:\n",
    "    if edge == -1 and value < center:\n",
    "        return 256\n",
    "    if edge == 1 and value > center:\n",
    "        return 256\n",
    "    if value > center + half_width:\n",
    "        return 0\n",
    "    if value < center - half_width:\n",
    "        return 0\n",
    "\n",
    "    centered_value = int(abs(value - center))\n",
    "    return int((256 * (half_width - centered_value)) // half_width)\n",
    "\n",
    "\n",
    "class FuzzyController:\n",
    "    def __init__(self, temp, max_power):\n",
    "        self.set_point = 0\n",
    "        self.last_temp = temp               # 0~1024, a leitura do sensor\n",
    "\n",
    "                               # N, Z, P\n",
    "        self.fuzzy_delta_temp = (0, 0, 0)\n",
    "                          # NL, NM, NS, Z, P\n",
    "        self.fuzzy_error = (0,  0,  0, 0,  0)\n",
    "                         # Z, ST, L, M, H\n",
    "        self.fuzzy_power = (0, 0, 0, 0, 0)\n",
    "\n",
    "        self.power = 0\n",
    "        self.max_power = max_power\n",
    "\n",
    "    def set_target(self, value):\n",
    "        self.set_point = value\n",
    "\n",
    "    def fuzzify_delta_temp(self, temp: int) -> None:\n",
    "        delta_temp = int(temp - self.last_temp)\n",
    "        self.last_temp = temp\n",
    "\n",
    "        self.fuzzy_delta_temp = (\n",
    "            fuzzify_triangular(delta_temp, -15, 15, -1),\n",
    "            fuzzify_triangular(delta_temp, 0, 15, 0),\n",
    "            fuzzify_triangular(delta_temp, 15, 15, 1)\n",
    "        )\n",
    "\n",
    "    def fuzzify_error(self, temp: int) -> None:\n",
    "        error = temp - int(self.set_point)\n",
    "        self.fuzzy_error = (\n",
    "            fuzzify_triangular(error, -150, 50, -1),\n",
    "            fuzzify_triangular(error, -100, 50,  0),\n",
    "            fuzzify_triangular(error, -50, 50,  0),\n",
    "            fuzzify_triangular(error,  0,  50,  0),\n",
    "            fuzzify_triangular(error,  50, 50,  1)\n",
    "        )\n",
    "\n",
    "    def calculate_power(self):\n",
    "        self.fuzzy_power = (\n",
    "            max(self.fuzzy_error[P],\n",
    "                self.fuzzy_delta_temp[2]),\n",
    "            \n",
    "            max(self.fuzzy_error[Z],\n",
    "                min(self.fuzzy_error[NS], self.fuzzy_delta_temp[2])),\n",
    "            \n",
    "            max(self.fuzzy_error[NM],\n",
    "                min(self.fuzzy_error[NS], self.fuzzy_delta_temp[1])),\n",
    "            \n",
    "            max(self.fuzzy_error[NL],\n",
    "                min(self.fuzzy_error[NM], self.fuzzy_delta_temp[1])),\n",
    "            \n",
    "            min(self.fuzzy_error[NL], self.fuzzy_delta_temp[1])\n",
    "        )\n",
    "\n",
    "    def deffuzify_power(self):\n",
    "        w_power = (0, 6, 20, 35, 50)     # Support member value\n",
    "        power = 0\n",
    "        membership_sum = 0\n",
    "        for i in range(5):\n",
    "            power += self.fuzzy_power[i] * w_power[i]\n",
    "            membership_sum += self.fuzzy_power[i]\n",
    "\n",
    "        power //= membership_sum\n",
    "\n",
    "        self.power = power\n",
    "\n",
    "        if self.power > self.max_power:\n",
    "            self.power = self.max_power\n",
    "        if self.power < 0:\n",
    "            self.power = 0\n",
    "\n",
    "    def run_step(self, temp):\n",
    "        self.fuzzify_error(temp)\n",
    "        self.fuzzify_delta_temp(temp)\n",
    "        self.calculate_power()\n",
    "        self.deffuzify_power()\n",
    "\n",
    "        return self.power"
   ]
  },
  {
   "cell_type": "code",
   "execution_count": 56,
   "metadata": {},
   "outputs": [
    {
     "name": "stdout",
     "output_type": "stream",
     "text": [
      "455\n"
     ]
    }
   ],
   "source": [
    "def temp_to_reading(temp: float) -> int:\n",
    "    reading = temp * 0.01\n",
    "    reading = reading * 1024/2\n",
    "    return int(reading)\n",
    "\n",
    "print(temp_to_reading(109-20))"
   ]
  },
  {
   "cell_type": "code",
   "execution_count": 53,
   "metadata": {},
   "outputs": [
    {
     "name": "stdout",
     "output_type": "stream",
     "text": [
      "set: 100, estabilização: 92.90059882352944, potencia: 16\n",
      "set: 120, estabilização: 109.07416532258064, potencia: 21\n",
      "set: 140, estabilização: 126.29084313725492, potencia: 26\n",
      "set: 40, estabilização: 43.0027220338983, potencia: 4\n",
      "set: 60, estabilização: 59.10065000000001, potencia: 7\n",
      "set: 80, estabilização: 75.8177727626459, potencia: 11\n",
      "0.98633576181365\n",
      "[-1.54840819]\n",
      "[[0.048526]]\n"
     ]
    },
    {
     "data": {
      "image/png": "[encoded data removed]",
      "text/plain": [
       "<Figure size 432x288 with 1 Axes>"
      ]
     },
     "metadata": {
      "needs_background": "light"
     },
     "output_type": "display_data"
    }
   ],
   "source": [
    "powers = [0, ]\n",
    "temps = [0, ]\n",
    "\n",
    "for filename in filenames:\n",
    "    df = pd.read_csv(filename)\n",
    "    df[\"time\"] = df[\"time\"] - df[\"time\"][0]\n",
    "    set_point = round(df[\"set_point\"].mean())\n",
    "    \n",
    "    tail = df.where(df[\"time\"] > (df[\"time\"].max() - 300))\n",
    "    out_mean = tail[\"S5\"].mean()\n",
    "    out_reading = temp_to_reading(out_mean)\n",
    "    \n",
    "    controller = FuzzyController(out_reading, 120)\n",
    "    controller.set_target(temp_to_reading(set_point))\n",
    "    controller.run_step(out_reading)\n",
    "    controller.run_step(out_reading)\n",
    "    \n",
    "    temps.append(out_mean - 20)\n",
    "    powers.append(controller.power)\n",
    "    \n",
    "    print(f\"set: {set_point}, estabilização: {out_mean}, potencia: {controller.power}\")\n",
    "\n",
    "sns.regplot(x=powers, y=temps)\n",
    "\n",
    "x = np.array(list(map(temp_to_reading, temps))).reshape(7, 1)\n",
    "y = np.array(powers).reshape(7, 1)\n",
    "\n",
    "model = LinearRegression()\n",
    "model.fit(x, y)\n",
    "\n",
    "print(model.score(x, y))\n",
    "print(model.intercept_)\n",
    "print(model.coef_)\n",
    "# power_st = (read_set - read_room)//21 - 1"
   ]
  },
  {
   "cell_type": "markdown",
   "metadata": {},
   "source": [
    "Com esses resultados, chegou-se no valor de um aumento na potência equivalente ao (set point - temperatura ambiente) / 21 para que o sistema consiga se adaptar"
   ]
  }
 ],
 "metadata": {
  "kernelspec": {
   "display_name": "Python 3",
   "language": "python",
   "name": "python3"
  },
  "language_info": {
   "codemirror_mode": {
    "name": "ipython",
    "version": 3
   },
   "file_extension": ".py",
   "mimetype": "text/x-python",
   "name": "python",
   "nbconvert_exporter": "python",
   "pygments_lexer": "ipython3",
   "version": "3.7.9"
  }
 },
 "nbformat": 4,
 "nbformat_minor": 4
}
